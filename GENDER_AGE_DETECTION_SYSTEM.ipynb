{
  "cells": [
    {
      "cell_type": "markdown",
      "metadata": {
        "id": "uUon4xjNqyuF"
      },
      "source": [
        "# PROJECT-1: **GENDER AGE DETECTION SYSTEM**"
      ]
    },
    {
      "cell_type": "markdown",
      "metadata": {
        "id": "HbwDgk_0qyxo"
      },
      "source": [
        "### *Import* libraries"
      ]
    },
    {
      "cell_type": "code",
      "execution_count": null,
      "metadata": {
        "id": "xdLI6txjrBAv"
      },
      "outputs": [],
      "source": [
        "import pandas as pd\n",
        "import numpy as np\n",
        "from sklearn.model_selection import train_test_split\n",
        "from sklearn.svm import SVC\n",
        "from sklearn.metrics import classification_report\n",
        "from sklearn.metrics import accuracy_score"
      ]
    },
    {
      "cell_type": "markdown",
      "metadata": {
        "id": "6PvkEvbPu3qo"
      },
      "source": [
        "### *Load* the dataset"
      ]
    },
    {
      "cell_type": "code",
      "execution_count": null,
      "metadata": {
        "colab": {
          "base_uri": "https://localhost:8080/",
          "height": 423
        },
        "id": "0Pj2zQcXrA8N",
        "outputId": "7f15ba6c-61c7-4dac-bf39-e36385059ef6"
      },
      "outputs": [
        {
          "data": {
            "text/html": [
              "\n",
              "\n",
              "  <div id=\"df-0ebcb00e-ea35-4d5c-86b0-de7073323f27\">\n",
              "    <div class=\"colab-df-container\">\n",
              "      <div>\n",
              "<style scoped>\n",
              "    .dataframe tbody tr th:only-of-type {\n",
              "        vertical-align: middle;\n",
              "    }\n",
              "\n",
              "    .dataframe tbody tr th {\n",
              "        vertical-align: top;\n",
              "    }\n",
              "\n",
              "    .dataframe thead th {\n",
              "        text-align: right;\n",
              "    }\n",
              "</style>\n",
              "<table border=\"1\" class=\"dataframe\">\n",
              "  <thead>\n",
              "    <tr style=\"text-align: right;\">\n",
              "      <th></th>\n",
              "      <th>age</th>\n",
              "      <th>ethnicity</th>\n",
              "      <th>gender</th>\n",
              "      <th>img_name</th>\n",
              "      <th>pixels</th>\n",
              "    </tr>\n",
              "  </thead>\n",
              "  <tbody>\n",
              "    <tr>\n",
              "      <th>0</th>\n",
              "      <td>1</td>\n",
              "      <td>2</td>\n",
              "      <td>0</td>\n",
              "      <td>20161219203650636.jpg.chip.jpg</td>\n",
              "      <td>129 128 128 126 127 130 133 135 139 142 145 14...</td>\n",
              "    </tr>\n",
              "    <tr>\n",
              "      <th>1</th>\n",
              "      <td>1</td>\n",
              "      <td>2</td>\n",
              "      <td>0</td>\n",
              "      <td>20161219222752047.jpg.chip.jpg</td>\n",
              "      <td>164 74 111 168 169 171 175 182 184 188 193 199...</td>\n",
              "    </tr>\n",
              "    <tr>\n",
              "      <th>2</th>\n",
              "      <td>1</td>\n",
              "      <td>2</td>\n",
              "      <td>0</td>\n",
              "      <td>20161219222832191.jpg.chip.jpg</td>\n",
              "      <td>67 70 71 70 69 67 70 79 90 103 116 132 145 155...</td>\n",
              "    </tr>\n",
              "    <tr>\n",
              "      <th>3</th>\n",
              "      <td>1</td>\n",
              "      <td>2</td>\n",
              "      <td>0</td>\n",
              "      <td>20161220144911423.jpg.chip.jpg</td>\n",
              "      <td>193 197 198 200 199 200 202 203 204 205 208 21...</td>\n",
              "    </tr>\n",
              "    <tr>\n",
              "      <th>4</th>\n",
              "      <td>1</td>\n",
              "      <td>2</td>\n",
              "      <td>0</td>\n",
              "      <td>20161220144914327.jpg.chip.jpg</td>\n",
              "      <td>202 205 209 210 209 209 210 211 212 214 218 21...</td>\n",
              "    </tr>\n",
              "    <tr>\n",
              "      <th>...</th>\n",
              "      <td>...</td>\n",
              "      <td>...</td>\n",
              "      <td>...</td>\n",
              "      <td>...</td>\n",
              "      <td>...</td>\n",
              "    </tr>\n",
              "    <tr>\n",
              "      <th>23700</th>\n",
              "      <td>99</td>\n",
              "      <td>0</td>\n",
              "      <td>1</td>\n",
              "      <td>20170120221920654.jpg.chip.jpg</td>\n",
              "      <td>127 100 94 81 77 77 74 99 102 98 128 145 160 1...</td>\n",
              "    </tr>\n",
              "    <tr>\n",
              "      <th>23701</th>\n",
              "      <td>99</td>\n",
              "      <td>1</td>\n",
              "      <td>1</td>\n",
              "      <td>20170120134639935.jpg.chip.jpg</td>\n",
              "      <td>23 28 32 35 42 47 68 85 98 103 113 117 130 129...</td>\n",
              "    </tr>\n",
              "    <tr>\n",
              "      <th>23702</th>\n",
              "      <td>99</td>\n",
              "      <td>2</td>\n",
              "      <td>1</td>\n",
              "      <td>20170110182418864.jpg.chip.jpg</td>\n",
              "      <td>59 50 37 40 34 19 30 101 156 170 177 184 187 1...</td>\n",
              "    </tr>\n",
              "    <tr>\n",
              "      <th>23703</th>\n",
              "      <td>99</td>\n",
              "      <td>2</td>\n",
              "      <td>1</td>\n",
              "      <td>20170117195405372.jpg.chip.jpg</td>\n",
              "      <td>45 108 120 156 206 197 140 180 191 199 204 207...</td>\n",
              "    </tr>\n",
              "    <tr>\n",
              "      <th>23704</th>\n",
              "      <td>99</td>\n",
              "      <td>0</td>\n",
              "      <td>1</td>\n",
              "      <td>20170110182052119.jpg.chip.jpg</td>\n",
              "      <td>156 161 160 165 170 173 166 177 183 191 187 18...</td>\n",
              "    </tr>\n",
              "  </tbody>\n",
              "</table>\n",
              "<p>23705 rows × 5 columns</p>\n",
              "</div>\n",
              "      <button class=\"colab-df-convert\" onclick=\"convertToInteractive('df-0ebcb00e-ea35-4d5c-86b0-de7073323f27')\"\n",
              "              title=\"Convert this dataframe to an interactive table.\"\n",
              "              style=\"display:none;\">\n",
              "\n",
              "  <svg xmlns=\"http://www.w3.org/2000/svg\" height=\"24px\"viewBox=\"0 0 24 24\"\n",
              "       width=\"24px\">\n",
              "    <path d=\"M0 0h24v24H0V0z\" fill=\"none\"/>\n",
              "    <path d=\"M18.56 5.44l.94 2.06.94-2.06 2.06-.94-2.06-.94-.94-2.06-.94 2.06-2.06.94zm-11 1L8.5 8.5l.94-2.06 2.06-.94-2.06-.94L8.5 2.5l-.94 2.06-2.06.94zm10 10l.94 2.06.94-2.06 2.06-.94-2.06-.94-.94-2.06-.94 2.06-2.06.94z\"/><path d=\"M17.41 7.96l-1.37-1.37c-.4-.4-.92-.59-1.43-.59-.52 0-1.04.2-1.43.59L10.3 9.45l-7.72 7.72c-.78.78-.78 2.05 0 2.83L4 21.41c.39.39.9.59 1.41.59.51 0 1.02-.2 1.41-.59l7.78-7.78 2.81-2.81c.8-.78.8-2.07 0-2.86zM5.41 20L4 18.59l7.72-7.72 1.47 1.35L5.41 20z\"/>\n",
              "  </svg>\n",
              "      </button>\n",
              "\n",
              "\n",
              "\n",
              "    <div id=\"df-debb3b51-0d59-4cde-9a38-e268ff5355dd\">\n",
              "      <button class=\"colab-df-quickchart\" onclick=\"quickchart('df-debb3b51-0d59-4cde-9a38-e268ff5355dd')\"\n",
              "              title=\"Suggest charts.\"\n",
              "              style=\"display:none;\">\n",
              "\n",
              "<svg xmlns=\"http://www.w3.org/2000/svg\" height=\"24px\"viewBox=\"0 0 24 24\"\n",
              "     width=\"24px\">\n",
              "    <g>\n",
              "        <path d=\"M19 3H5c-1.1 0-2 .9-2 2v14c0 1.1.9 2 2 2h14c1.1 0 2-.9 2-2V5c0-1.1-.9-2-2-2zM9 17H7v-7h2v7zm4 0h-2V7h2v10zm4 0h-2v-4h2v4z\"/>\n",
              "    </g>\n",
              "</svg>\n",
              "      </button>\n",
              "    </div>\n",
              "\n",
              "<style>\n",
              "  .colab-df-quickchart {\n",
              "    background-color: #E8F0FE;\n",
              "    border: none;\n",
              "    border-radius: 50%;\n",
              "    cursor: pointer;\n",
              "    display: none;\n",
              "    fill: #1967D2;\n",
              "    height: 32px;\n",
              "    padding: 0 0 0 0;\n",
              "    width: 32px;\n",
              "  }\n",
              "\n",
              "  .colab-df-quickchart:hover {\n",
              "    background-color: #E2EBFA;\n",
              "    box-shadow: 0px 1px 2px rgba(60, 64, 67, 0.3), 0px 1px 3px 1px rgba(60, 64, 67, 0.15);\n",
              "    fill: #174EA6;\n",
              "  }\n",
              "\n",
              "  [theme=dark] .colab-df-quickchart {\n",
              "    background-color: #3B4455;\n",
              "    fill: #D2E3FC;\n",
              "  }\n",
              "\n",
              "  [theme=dark] .colab-df-quickchart:hover {\n",
              "    background-color: #434B5C;\n",
              "    box-shadow: 0px 1px 3px 1px rgba(0, 0, 0, 0.15);\n",
              "    filter: drop-shadow(0px 1px 2px rgba(0, 0, 0, 0.3));\n",
              "    fill: #FFFFFF;\n",
              "  }\n",
              "</style>\n",
              "\n",
              "    <script>\n",
              "      async function quickchart(key) {\n",
              "        const containerElement = document.querySelector('#' + key);\n",
              "        const charts = await google.colab.kernel.invokeFunction(\n",
              "            'suggestCharts', [key], {});\n",
              "      }\n",
              "    </script>\n",
              "\n",
              "      <script>\n",
              "\n",
              "function displayQuickchartButton(domScope) {\n",
              "  let quickchartButtonEl =\n",
              "    domScope.querySelector('#df-debb3b51-0d59-4cde-9a38-e268ff5355dd button.colab-df-quickchart');\n",
              "  quickchartButtonEl.style.display =\n",
              "    google.colab.kernel.accessAllowed ? 'block' : 'none';\n",
              "}\n",
              "\n",
              "        displayQuickchartButton(document);\n",
              "      </script>\n",
              "      <style>\n",
              "    .colab-df-container {\n",
              "      display:flex;\n",
              "      flex-wrap:wrap;\n",
              "      gap: 12px;\n",
              "    }\n",
              "\n",
              "    .colab-df-convert {\n",
              "      background-color: #E8F0FE;\n",
              "      border: none;\n",
              "      border-radius: 50%;\n",
              "      cursor: pointer;\n",
              "      display: none;\n",
              "      fill: #1967D2;\n",
              "      height: 32px;\n",
              "      padding: 0 0 0 0;\n",
              "      width: 32px;\n",
              "    }\n",
              "\n",
              "    .colab-df-convert:hover {\n",
              "      background-color: #E2EBFA;\n",
              "      box-shadow: 0px 1px 2px rgba(60, 64, 67, 0.3), 0px 1px 3px 1px rgba(60, 64, 67, 0.15);\n",
              "      fill: #174EA6;\n",
              "    }\n",
              "\n",
              "    [theme=dark] .colab-df-convert {\n",
              "      background-color: #3B4455;\n",
              "      fill: #D2E3FC;\n",
              "    }\n",
              "\n",
              "    [theme=dark] .colab-df-convert:hover {\n",
              "      background-color: #434B5C;\n",
              "      box-shadow: 0px 1px 3px 1px rgba(0, 0, 0, 0.15);\n",
              "      filter: drop-shadow(0px 1px 2px rgba(0, 0, 0, 0.3));\n",
              "      fill: #FFFFFF;\n",
              "    }\n",
              "  </style>\n",
              "\n",
              "      <script>\n",
              "        const buttonEl =\n",
              "          document.querySelector('#df-0ebcb00e-ea35-4d5c-86b0-de7073323f27 button.colab-df-convert');\n",
              "        buttonEl.style.display =\n",
              "          google.colab.kernel.accessAllowed ? 'block' : 'none';\n",
              "\n",
              "        async function convertToInteractive(key) {\n",
              "          const element = document.querySelector('#df-0ebcb00e-ea35-4d5c-86b0-de7073323f27');\n",
              "          const dataTable =\n",
              "            await google.colab.kernel.invokeFunction('convertToInteractive',\n",
              "                                                     [key], {});\n",
              "          if (!dataTable) return;\n",
              "\n",
              "          const docLinkHtml = 'Like what you see? Visit the ' +\n",
              "            '<a target=\"_blank\" href=https://colab.research.google.com/notebooks/data_table.ipynb>data table notebook</a>'\n",
              "            + ' to learn more about interactive tables.';\n",
              "          element.innerHTML = '';\n",
              "          dataTable['output_type'] = 'display_data';\n",
              "          await google.colab.output.renderOutput(dataTable, element);\n",
              "          const docLink = document.createElement('div');\n",
              "          docLink.innerHTML = docLinkHtml;\n",
              "          element.appendChild(docLink);\n",
              "        }\n",
              "      </script>\n",
              "    </div>\n",
              "  </div>\n"
            ],
            "text/plain": [
              "       age  ethnicity  gender                        img_name  \\\n",
              "0        1          2       0  20161219203650636.jpg.chip.jpg   \n",
              "1        1          2       0  20161219222752047.jpg.chip.jpg   \n",
              "2        1          2       0  20161219222832191.jpg.chip.jpg   \n",
              "3        1          2       0  20161220144911423.jpg.chip.jpg   \n",
              "4        1          2       0  20161220144914327.jpg.chip.jpg   \n",
              "...    ...        ...     ...                             ...   \n",
              "23700   99          0       1  20170120221920654.jpg.chip.jpg   \n",
              "23701   99          1       1  20170120134639935.jpg.chip.jpg   \n",
              "23702   99          2       1  20170110182418864.jpg.chip.jpg   \n",
              "23703   99          2       1  20170117195405372.jpg.chip.jpg   \n",
              "23704   99          0       1  20170110182052119.jpg.chip.jpg   \n",
              "\n",
              "                                                  pixels  \n",
              "0      129 128 128 126 127 130 133 135 139 142 145 14...  \n",
              "1      164 74 111 168 169 171 175 182 184 188 193 199...  \n",
              "2      67 70 71 70 69 67 70 79 90 103 116 132 145 155...  \n",
              "3      193 197 198 200 199 200 202 203 204 205 208 21...  \n",
              "4      202 205 209 210 209 209 210 211 212 214 218 21...  \n",
              "...                                                  ...  \n",
              "23700  127 100 94 81 77 77 74 99 102 98 128 145 160 1...  \n",
              "23701  23 28 32 35 42 47 68 85 98 103 113 117 130 129...  \n",
              "23702  59 50 37 40 34 19 30 101 156 170 177 184 187 1...  \n",
              "23703  45 108 120 156 206 197 140 180 191 199 204 207...  \n",
              "23704  156 161 160 165 170 173 166 177 183 191 187 18...  \n",
              "\n",
              "[23705 rows x 5 columns]"
            ]
          },
          "execution_count": 2,
          "metadata": {},
          "output_type": "execute_result"
        }
      ],
      "source": [
        "gender_age_data = pd.read_csv('/content/drive/MyDrive/Labs/CC_lab/age_gender.csv')\n",
        "gender_age_data"
      ]
    },
    {
      "cell_type": "markdown",
      "metadata": {
        "id": "P2FH8TKJu7fc"
      },
      "source": [
        "### *Explore* the dataset"
      ]
    },
    {
      "cell_type": "code",
      "execution_count": null,
      "metadata": {
        "colab": {
          "base_uri": "https://localhost:8080/"
        },
        "id": "pMAzDvwSrA49",
        "outputId": "ea06f645-9bb3-467d-8979-ce52e86949ad"
      },
      "outputs": [
        {
          "name": "stdout",
          "output_type": "stream",
          "text": [
            "Column Names: Index(['age', 'ethnicity', 'gender', 'img_name', 'pixels'], dtype='object')\n"
          ]
        }
      ],
      "source": [
        "print(\"Column Names:\", gender_age_data.keys())"
      ]
    },
    {
      "cell_type": "code",
      "execution_count": null,
      "metadata": {
        "colab": {
          "base_uri": "https://localhost:8080/"
        },
        "id": "9i3enPacrA11",
        "outputId": "7ea91d59-ab05-4044-df6d-468d73b96f80"
      },
      "outputs": [
        {
          "name": "stdout",
          "output_type": "stream",
          "text": [
            "The dimension: (23705, 5)\n"
          ]
        }
      ],
      "source": [
        "print(\"The dimension:\", gender_age_data.shape)"
      ]
    },
    {
      "cell_type": "code",
      "execution_count": null,
      "metadata": {
        "colab": {
          "base_uri": "https://localhost:8080/"
        },
        "id": "E25qgwZzrAzf",
        "outputId": "8d183b37-fbcc-4810-bd06-d6e9eae30d8b"
      },
      "outputs": [
        {
          "name": "stdout",
          "output_type": "stream",
          "text": [
            "                age     ethnicity        gender\n",
            "count  23705.000000  23705.000000  23705.000000\n",
            "mean      33.300907      1.269226      0.477283\n",
            "std       19.885708      1.345638      0.499494\n",
            "min        1.000000      0.000000      0.000000\n",
            "25%       23.000000      0.000000      0.000000\n",
            "50%       29.000000      1.000000      0.000000\n",
            "75%       45.000000      2.000000      1.000000\n",
            "max      116.000000      4.000000      1.000000\n"
          ]
        }
      ],
      "source": [
        "print(gender_age_data.describe())"
      ]
    },
    {
      "cell_type": "code",
      "execution_count": null,
      "metadata": {
        "colab": {
          "base_uri": "https://localhost:8080/"
        },
        "id": "rWyCF2cUq-_3",
        "outputId": "992573d4-742d-4d9e-bd43-4fb4dd5fc804"
      },
      "outputs": [
        {
          "name": "stdout",
          "output_type": "stream",
          "text": [
            "<class 'pandas.core.frame.DataFrame'>\n",
            "RangeIndex: 23705 entries, 0 to 23704\n",
            "Data columns (total 5 columns):\n",
            " #   Column     Non-Null Count  Dtype \n",
            "---  ------     --------------  ----- \n",
            " 0   age        23705 non-null  int64 \n",
            " 1   ethnicity  23705 non-null  int64 \n",
            " 2   gender     23705 non-null  int64 \n",
            " 3   img_name   23705 non-null  object\n",
            " 4   pixels     23705 non-null  object\n",
            "dtypes: int64(3), object(2)\n",
            "memory usage: 926.1+ KB\n",
            "None\n"
          ]
        }
      ],
      "source": [
        "print(gender_age_data.info())"
      ]
    },
    {
      "cell_type": "markdown",
      "metadata": {
        "id": "U5_2yY73vNu1"
      },
      "source": [
        "### *Preprocess* the dataset"
      ]
    },
    {
      "cell_type": "code",
      "execution_count": null,
      "metadata": {
        "id": "9daQ4I7iq-8U"
      },
      "outputs": [],
      "source": [
        "# Applying a transformation to the 'pixels' column\n",
        "gender_age_data['pixels'] = gender_age_data['pixels'].apply(lambda x: np.array(x.split(), dtype=int))"
      ]
    },
    {
      "cell_type": "code",
      "execution_count": null,
      "metadata": {
        "id": "waduqbRxq-4k"
      },
      "outputs": [],
      "source": [
        "# Separate features (X) and target labels (y)\n",
        "X = np.vstack(gender_age_data['pixels'].values)\n",
        "y_gender = gender_age_data['gender']\n",
        "y_age= gender_age_data['age']"
      ]
    },
    {
      "cell_type": "markdown",
      "metadata": {
        "id": "tmyUJ_43vX93"
      },
      "source": [
        "### *Split* the dataset into *training* and *testing* sets"
      ]
    },
    {
      "cell_type": "code",
      "execution_count": null,
      "metadata": {
        "id": "wbvuWnPRq-0l"
      },
      "outputs": [],
      "source": [
        "# Split the dataset into training and testing sets for gender\n",
        "X_train_gender, X_test_gender, y_train_gender, y_test_gender = train_test_split(\n",
        "    X, y_gender, test_size=0.2, random_state=42)"
      ]
    },
    {
      "cell_type": "code",
      "execution_count": null,
      "metadata": {
        "id": "t8pZkNfGq-x0"
      },
      "outputs": [],
      "source": [
        "# Split the dataset into training and testing sets for age\n",
        "X_train_age, X_test_age, y_train_age, y_test_age = train_test_split(\n",
        "    X, y_age, test_size=0.2, random_state=42)"
      ]
    },
    {
      "cell_type": "markdown",
      "metadata": {
        "id": "q-fuJQZnvi6L"
      },
      "source": [
        "### *Train* a *Support Vector Machine* (SVM) classifier"
      ]
    },
    {
      "cell_type": "code",
      "execution_count": null,
      "metadata": {
        "colab": {
          "background_save": true
        },
        "id": "EgZn6f_Uq-us",
        "outputId": "33f42687-2098-4d76-ed31-972bfe2c4515"
      },
      "outputs": [
        {
          "data": {
            "text/html": [
              "<style>#sk-container-id-1 {color: black;background-color: white;}#sk-container-id-1 pre{padding: 0;}#sk-container-id-1 div.sk-toggleable {background-color: white;}#sk-container-id-1 label.sk-toggleable__label {cursor: pointer;display: block;width: 100%;margin-bottom: 0;padding: 0.3em;box-sizing: border-box;text-align: center;}#sk-container-id-1 label.sk-toggleable__label-arrow:before {content: \"▸\";float: left;margin-right: 0.25em;color: #696969;}#sk-container-id-1 label.sk-toggleable__label-arrow:hover:before {color: black;}#sk-container-id-1 div.sk-estimator:hover label.sk-toggleable__label-arrow:before {color: black;}#sk-container-id-1 div.sk-toggleable__content {max-height: 0;max-width: 0;overflow: hidden;text-align: left;background-color: #f0f8ff;}#sk-container-id-1 div.sk-toggleable__content pre {margin: 0.2em;color: black;border-radius: 0.25em;background-color: #f0f8ff;}#sk-container-id-1 input.sk-toggleable__control:checked~div.sk-toggleable__content {max-height: 200px;max-width: 100%;overflow: auto;}#sk-container-id-1 input.sk-toggleable__control:checked~label.sk-toggleable__label-arrow:before {content: \"▾\";}#sk-container-id-1 div.sk-estimator input.sk-toggleable__control:checked~label.sk-toggleable__label {background-color: #d4ebff;}#sk-container-id-1 div.sk-label input.sk-toggleable__control:checked~label.sk-toggleable__label {background-color: #d4ebff;}#sk-container-id-1 input.sk-hidden--visually {border: 0;clip: rect(1px 1px 1px 1px);clip: rect(1px, 1px, 1px, 1px);height: 1px;margin: -1px;overflow: hidden;padding: 0;position: absolute;width: 1px;}#sk-container-id-1 div.sk-estimator {font-family: monospace;background-color: #f0f8ff;border: 1px dotted black;border-radius: 0.25em;box-sizing: border-box;margin-bottom: 0.5em;}#sk-container-id-1 div.sk-estimator:hover {background-color: #d4ebff;}#sk-container-id-1 div.sk-parallel-item::after {content: \"\";width: 100%;border-bottom: 1px solid gray;flex-grow: 1;}#sk-container-id-1 div.sk-label:hover label.sk-toggleable__label {background-color: #d4ebff;}#sk-container-id-1 div.sk-serial::before {content: \"\";position: absolute;border-left: 1px solid gray;box-sizing: border-box;top: 0;bottom: 0;left: 50%;z-index: 0;}#sk-container-id-1 div.sk-serial {display: flex;flex-direction: column;align-items: center;background-color: white;padding-right: 0.2em;padding-left: 0.2em;position: relative;}#sk-container-id-1 div.sk-item {position: relative;z-index: 1;}#sk-container-id-1 div.sk-parallel {display: flex;align-items: stretch;justify-content: center;background-color: white;position: relative;}#sk-container-id-1 div.sk-item::before, #sk-container-id-1 div.sk-parallel-item::before {content: \"\";position: absolute;border-left: 1px solid gray;box-sizing: border-box;top: 0;bottom: 0;left: 50%;z-index: -1;}#sk-container-id-1 div.sk-parallel-item {display: flex;flex-direction: column;z-index: 1;position: relative;background-color: white;}#sk-container-id-1 div.sk-parallel-item:first-child::after {align-self: flex-end;width: 50%;}#sk-container-id-1 div.sk-parallel-item:last-child::after {align-self: flex-start;width: 50%;}#sk-container-id-1 div.sk-parallel-item:only-child::after {width: 0;}#sk-container-id-1 div.sk-dashed-wrapped {border: 1px dashed gray;margin: 0 0.4em 0.5em 0.4em;box-sizing: border-box;padding-bottom: 0.4em;background-color: white;}#sk-container-id-1 div.sk-label label {font-family: monospace;font-weight: bold;display: inline-block;line-height: 1.2em;}#sk-container-id-1 div.sk-label-container {text-align: center;}#sk-container-id-1 div.sk-container {/* jupyter's `normalize.less` sets `[hidden] { display: none; }` but bootstrap.min.css set `[hidden] { display: none !important; }` so we also need the `!important` here to be able to override the default hidden behavior on the sphinx rendered scikit-learn.org. See: https://github.com/scikit-learn/scikit-learn/issues/21755 */display: inline-block !important;position: relative;}#sk-container-id-1 div.sk-text-repr-fallback {display: none;}</style><div id=\"sk-container-id-1\" class=\"sk-top-container\"><div class=\"sk-text-repr-fallback\"><pre>SVC()</pre><b>In a Jupyter environment, please rerun this cell to show the HTML representation or trust the notebook. <br />On GitHub, the HTML representation is unable to render, please try loading this page with nbviewer.org.</b></div><div class=\"sk-container\" hidden><div class=\"sk-item\"><div class=\"sk-estimator sk-toggleable\"><input class=\"sk-toggleable__control sk-hidden--visually\" id=\"sk-estimator-id-1\" type=\"checkbox\" checked><label for=\"sk-estimator-id-1\" class=\"sk-toggleable__label sk-toggleable__label-arrow\">SVC</label><div class=\"sk-toggleable__content\"><pre>SVC()</pre></div></div></div></div></div>"
            ],
            "text/plain": [
              "SVC()"
            ]
          },
          "execution_count": 11,
          "metadata": {},
          "output_type": "execute_result"
        }
      ],
      "source": [
        "# Train a Support Vector Machine (SVM) classifier for gender\n",
        "gender_classifier = SVC()\n",
        "gender_classifier.fit(X_train_gender, y_train_gender)"
      ]
    },
    {
      "cell_type": "code",
      "execution_count": null,
      "metadata": {
        "colab": {
          "background_save": true
        },
        "id": "0Ak796UowSMk"
      },
      "outputs": [],
      "source": [
        "# Make predictions on the testing set for gender\n",
        "y_gender_pred = gender_classifier.predict(X_test_gender)"
      ]
    },
    {
      "cell_type": "code",
      "source": [
        "# Train a Support Vector Machine (SVM) classifier for age\n",
        "age_classifier = SVC()\n",
        "age_classifier.fit(X_train_age, y_train_age)"
      ],
      "metadata": {
        "id": "5-EbdlQ6COxP",
        "colab": {
          "base_uri": "https://localhost:8080/",
          "height": 74
        },
        "outputId": "03f3796e-cbfd-46c9-a4ad-a9eeb1e0bf95"
      },
      "execution_count": 14,
      "outputs": [
        {
          "data": {
            "text/html": [
              "<style>#sk-container-id-2 {color: black;background-color: white;}#sk-container-id-2 pre{padding: 0;}#sk-container-id-2 div.sk-toggleable {background-color: white;}#sk-container-id-2 label.sk-toggleable__label {cursor: pointer;display: block;width: 100%;margin-bottom: 0;padding: 0.3em;box-sizing: border-box;text-align: center;}#sk-container-id-2 label.sk-toggleable__label-arrow:before {content: \"▸\";float: left;margin-right: 0.25em;color: #696969;}#sk-container-id-2 label.sk-toggleable__label-arrow:hover:before {color: black;}#sk-container-id-2 div.sk-estimator:hover label.sk-toggleable__label-arrow:before {color: black;}#sk-container-id-2 div.sk-toggleable__content {max-height: 0;max-width: 0;overflow: hidden;text-align: left;background-color: #f0f8ff;}#sk-container-id-2 div.sk-toggleable__content pre {margin: 0.2em;color: black;border-radius: 0.25em;background-color: #f0f8ff;}#sk-container-id-2 input.sk-toggleable__control:checked~div.sk-toggleable__content {max-height: 200px;max-width: 100%;overflow: auto;}#sk-container-id-2 input.sk-toggleable__control:checked~label.sk-toggleable__label-arrow:before {content: \"▾\";}#sk-container-id-2 div.sk-estimator input.sk-toggleable__control:checked~label.sk-toggleable__label {background-color: #d4ebff;}#sk-container-id-2 div.sk-label input.sk-toggleable__control:checked~label.sk-toggleable__label {background-color: #d4ebff;}#sk-container-id-2 input.sk-hidden--visually {border: 0;clip: rect(1px 1px 1px 1px);clip: rect(1px, 1px, 1px, 1px);height: 1px;margin: -1px;overflow: hidden;padding: 0;position: absolute;width: 1px;}#sk-container-id-2 div.sk-estimator {font-family: monospace;background-color: #f0f8ff;border: 1px dotted black;border-radius: 0.25em;box-sizing: border-box;margin-bottom: 0.5em;}#sk-container-id-2 div.sk-estimator:hover {background-color: #d4ebff;}#sk-container-id-2 div.sk-parallel-item::after {content: \"\";width: 100%;border-bottom: 1px solid gray;flex-grow: 1;}#sk-container-id-2 div.sk-label:hover label.sk-toggleable__label {background-color: #d4ebff;}#sk-container-id-2 div.sk-serial::before {content: \"\";position: absolute;border-left: 1px solid gray;box-sizing: border-box;top: 0;bottom: 0;left: 50%;z-index: 0;}#sk-container-id-2 div.sk-serial {display: flex;flex-direction: column;align-items: center;background-color: white;padding-right: 0.2em;padding-left: 0.2em;position: relative;}#sk-container-id-2 div.sk-item {position: relative;z-index: 1;}#sk-container-id-2 div.sk-parallel {display: flex;align-items: stretch;justify-content: center;background-color: white;position: relative;}#sk-container-id-2 div.sk-item::before, #sk-container-id-2 div.sk-parallel-item::before {content: \"\";position: absolute;border-left: 1px solid gray;box-sizing: border-box;top: 0;bottom: 0;left: 50%;z-index: -1;}#sk-container-id-2 div.sk-parallel-item {display: flex;flex-direction: column;z-index: 1;position: relative;background-color: white;}#sk-container-id-2 div.sk-parallel-item:first-child::after {align-self: flex-end;width: 50%;}#sk-container-id-2 div.sk-parallel-item:last-child::after {align-self: flex-start;width: 50%;}#sk-container-id-2 div.sk-parallel-item:only-child::after {width: 0;}#sk-container-id-2 div.sk-dashed-wrapped {border: 1px dashed gray;margin: 0 0.4em 0.5em 0.4em;box-sizing: border-box;padding-bottom: 0.4em;background-color: white;}#sk-container-id-2 div.sk-label label {font-family: monospace;font-weight: bold;display: inline-block;line-height: 1.2em;}#sk-container-id-2 div.sk-label-container {text-align: center;}#sk-container-id-2 div.sk-container {/* jupyter's `normalize.less` sets `[hidden] { display: none; }` but bootstrap.min.css set `[hidden] { display: none !important; }` so we also need the `!important` here to be able to override the default hidden behavior on the sphinx rendered scikit-learn.org. See: https://github.com/scikit-learn/scikit-learn/issues/21755 */display: inline-block !important;position: relative;}#sk-container-id-2 div.sk-text-repr-fallback {display: none;}</style><div id=\"sk-container-id-2\" class=\"sk-top-container\"><div class=\"sk-text-repr-fallback\"><pre>SVC()</pre><b>In a Jupyter environment, please rerun this cell to show the HTML representation or trust the notebook. <br />On GitHub, the HTML representation is unable to render, please try loading this page with nbviewer.org.</b></div><div class=\"sk-container\" hidden><div class=\"sk-item\"><div class=\"sk-estimator sk-toggleable\"><input class=\"sk-toggleable__control sk-hidden--visually\" id=\"sk-estimator-id-2\" type=\"checkbox\" checked><label for=\"sk-estimator-id-2\" class=\"sk-toggleable__label sk-toggleable__label-arrow\">SVC</label><div class=\"sk-toggleable__content\"><pre>SVC()</pre></div></div></div></div></div>"
            ],
            "text/plain": [
              "SVC()"
            ]
          },
          "execution_count": 14,
          "metadata": {},
          "output_type": "execute_result"
        }
      ]
    },
    {
      "cell_type": "code",
      "execution_count": 15,
      "metadata": {
        "id": "PoOoENO9wURb"
      },
      "outputs": [],
      "source": [
        "# Make predictions on the testing set for age\n",
        "y_age_pred = age_classifier.predict(X_test_age)"
      ]
    },
    {
      "cell_type": "markdown",
      "metadata": {
        "id": "Wc_f3nuxwFt4"
      },
      "source": [
        "### *Evaluate* the Model"
      ]
    },
    {
      "cell_type": "code",
      "execution_count": 16,
      "metadata": {
        "id": "rJf5I87Zq-qC",
        "colab": {
          "base_uri": "https://localhost:8080/"
        },
        "outputId": "64dbf4ad-26d3-454f-cb3d-39fae5aaf0b1"
      },
      "outputs": [
        {
          "output_type": "stream",
          "name": "stdout",
          "text": [
            "Gender Classification Report:               precision    recall  f1-score   support\n",
            "\n",
            "           0       0.87      0.88      0.88      2468\n",
            "           1       0.87      0.86      0.87      2273\n",
            "\n",
            "    accuracy                           0.87      4741\n",
            "   macro avg       0.87      0.87      0.87      4741\n",
            "weighted avg       0.87      0.87      0.87      4741\n",
            "\n"
          ]
        }
      ],
      "source": [
        "# Evaluate the gender classification report\n",
        "report_gender = classification_report(y_test_gender, y_gender_pred)\n",
        "print(\"Gender Classification Report:\", report_gender)"
      ]
    },
    {
      "cell_type": "code",
      "execution_count": 20,
      "metadata": {
        "id": "KgPUZtJYq-ng",
        "colab": {
          "base_uri": "https://localhost:8080/"
        },
        "outputId": "32207ccd-2c51-4d53-928d-826aae5f55c7"
      },
      "outputs": [
        {
          "output_type": "stream",
          "name": "stdout",
          "text": [
            "Gender Accuracy: 87.1967939253322\n"
          ]
        }
      ],
      "source": [
        "# Evaluate the gender accuracy\n",
        "gender_accuracy = accuracy_score(y_test_gender, y_gender_pred)*100\n",
        "print(\"Gender Accuracy:\", gender_accuracy)"
      ]
    },
    {
      "cell_type": "code",
      "execution_count": 18,
      "metadata": {
        "id": "cVZs_BLBq-lc",
        "colab": {
          "base_uri": "https://localhost:8080/"
        },
        "outputId": "a0bfbc22-9f69-4173-f80f-67d801a296a0"
      },
      "outputs": [
        {
          "output_type": "stream",
          "name": "stdout",
          "text": [
            "Age Classification Report:               precision    recall  f1-score   support\n",
            "\n",
            "           1       0.43      0.88      0.58       210\n",
            "           2       0.29      0.02      0.04        99\n",
            "           3       0.19      0.09      0.12        45\n",
            "           4       0.33      0.07      0.12        57\n",
            "           5       0.00      0.00      0.00        39\n",
            "           6       0.00      0.00      0.00        22\n",
            "           7       0.00      0.00      0.00        34\n",
            "           8       0.16      0.11      0.13        55\n",
            "           9       1.00      0.03      0.06        33\n",
            "          10       0.00      0.00      0.00        24\n",
            "          11       0.00      0.00      0.00        10\n",
            "          12       0.00      0.00      0.00        28\n",
            "          13       0.00      0.00      0.00        13\n",
            "          14       0.00      0.00      0.00        35\n",
            "          15       0.00      0.00      0.00        24\n",
            "          16       0.00      0.00      0.00        41\n",
            "          17       0.00      0.00      0.00        45\n",
            "          18       0.00      0.00      0.00        52\n",
            "          19       0.00      0.00      0.00        16\n",
            "          20       0.00      0.00      0.00        72\n",
            "          21       0.00      0.00      0.00        86\n",
            "          22       0.00      0.00      0.00        87\n",
            "          23       0.00      0.00      0.00        98\n",
            "          24       0.00      0.00      0.00       162\n",
            "          25       0.00      0.00      0.00       138\n",
            "          26       0.12      0.98      0.21       455\n",
            "          27       0.00      0.00      0.00       120\n",
            "          28       0.00      0.00      0.00       161\n",
            "          29       0.00      0.00      0.00       134\n",
            "          30       1.00      0.01      0.01       140\n",
            "          31       0.00      0.00      0.00        65\n",
            "          32       0.00      0.00      0.00       128\n",
            "          33       0.00      0.00      0.00        35\n",
            "          34       0.00      0.00      0.00        79\n",
            "          35       0.05      0.03      0.04       181\n",
            "          36       0.00      0.00      0.00        95\n",
            "          37       0.00      0.00      0.00        49\n",
            "          38       0.00      0.00      0.00        75\n",
            "          39       0.00      0.00      0.00        57\n",
            "          40       0.08      0.04      0.05       108\n",
            "          41       0.00      0.00      0.00        27\n",
            "          42       0.00      0.00      0.00        58\n",
            "          43       0.00      0.00      0.00        40\n",
            "          44       0.00      0.00      0.00        19\n",
            "          45       0.00      0.00      0.00        85\n",
            "          46       0.00      0.00      0.00        27\n",
            "          47       0.00      0.00      0.00        33\n",
            "          48       0.00      0.00      0.00        19\n",
            "          49       0.00      0.00      0.00        25\n",
            "          50       0.19      0.04      0.06        78\n",
            "          51       0.00      0.00      0.00        31\n",
            "          52       0.00      0.00      0.00        43\n",
            "          53       0.00      0.00      0.00        44\n",
            "          54       0.04      0.06      0.05        62\n",
            "          55       0.00      0.00      0.00        65\n",
            "          56       0.00      0.00      0.00        46\n",
            "          57       0.00      0.00      0.00        22\n",
            "          58       0.00      0.00      0.00        52\n",
            "          59       0.00      0.00      0.00        16\n",
            "          60       0.08      0.02      0.03        56\n",
            "          61       0.00      0.00      0.00        42\n",
            "          62       0.00      0.00      0.00        27\n",
            "          63       0.00      0.00      0.00        20\n",
            "          64       0.00      0.00      0.00        11\n",
            "          65       0.00      0.00      0.00        59\n",
            "          66       0.00      0.00      0.00         8\n",
            "          67       0.00      0.00      0.00        19\n",
            "          68       0.00      0.00      0.00        20\n",
            "          69       0.00      0.00      0.00        10\n",
            "          70       0.00      0.00      0.00        34\n",
            "          71       0.00      0.00      0.00        10\n",
            "          72       0.00      0.00      0.00        19\n",
            "          73       0.00      0.00      0.00        13\n",
            "          74       0.00      0.00      0.00         6\n",
            "          75       0.00      0.00      0.00        26\n",
            "          76       0.00      0.00      0.00         7\n",
            "          77       0.00      0.00      0.00         6\n",
            "          78       0.00      0.00      0.00        11\n",
            "          79       0.00      0.00      0.00         4\n",
            "          80       0.00      0.00      0.00        26\n",
            "          81       0.00      0.00      0.00         4\n",
            "          82       0.00      0.00      0.00         7\n",
            "          83       0.00      0.00      0.00         5\n",
            "          84       0.00      0.00      0.00         4\n",
            "          85       0.09      0.03      0.04        38\n",
            "          86       0.00      0.00      0.00        10\n",
            "          87       0.00      0.00      0.00         2\n",
            "          88       0.00      0.00      0.00         5\n",
            "          89       0.00      0.00      0.00         8\n",
            "          90       0.00      0.00      0.00        16\n",
            "          93       0.00      0.00      0.00         2\n",
            "          95       0.00      0.00      0.00         1\n",
            "         100       0.00      0.00      0.00         2\n",
            "         101       0.00      0.00      0.00         1\n",
            "         105       0.00      0.00      0.00         1\n",
            "         110       0.00      0.00      0.00         1\n",
            "         115       0.00      0.00      0.00         1\n",
            "\n",
            "    accuracy                           0.14      4741\n",
            "   macro avg       0.04      0.02      0.02      4741\n",
            "weighted avg       0.09      0.14      0.06      4741\n",
            "\n"
          ]
        },
        {
          "output_type": "stream",
          "name": "stderr",
          "text": [
            "/usr/local/lib/python3.10/dist-packages/sklearn/metrics/_classification.py:1344: UndefinedMetricWarning: Precision and F-score are ill-defined and being set to 0.0 in labels with no predicted samples. Use `zero_division` parameter to control this behavior.\n",
            "  _warn_prf(average, modifier, msg_start, len(result))\n",
            "/usr/local/lib/python3.10/dist-packages/sklearn/metrics/_classification.py:1344: UndefinedMetricWarning: Precision and F-score are ill-defined and being set to 0.0 in labels with no predicted samples. Use `zero_division` parameter to control this behavior.\n",
            "  _warn_prf(average, modifier, msg_start, len(result))\n",
            "/usr/local/lib/python3.10/dist-packages/sklearn/metrics/_classification.py:1344: UndefinedMetricWarning: Precision and F-score are ill-defined and being set to 0.0 in labels with no predicted samples. Use `zero_division` parameter to control this behavior.\n",
            "  _warn_prf(average, modifier, msg_start, len(result))\n"
          ]
        }
      ],
      "source": [
        "# Evaluate the age classification report\n",
        "report_age = classification_report(y_test_age, y_age_pred)\n",
        "print(\"Age Classification Report:\", report_age)"
      ]
    },
    {
      "cell_type": "code",
      "execution_count": 21,
      "metadata": {
        "id": "QNyRNjBSq-g0",
        "colab": {
          "base_uri": "https://localhost:8080/"
        },
        "outputId": "6ee72700-f6a7-44be-b106-1f72403a7147"
      },
      "outputs": [
        {
          "output_type": "stream",
          "name": "stdout",
          "text": [
            "Age Accuracy: 14.089854461084158\n"
          ]
        }
      ],
      "source": [
        "# Evaluate the age accuracy\n",
        "age_accuracy = accuracy_score(y_test_age, y_age_pred)*100\n",
        "print(\"Age Accuracy:\", age_accuracy)"
      ]
    },
    {
      "cell_type": "markdown",
      "metadata": {
        "id": "mmWSNmLSq-CI"
      },
      "source": [
        "# **THE END**"
      ]
    }
  ],
  "metadata": {
    "colab": {
      "provenance": []
    },
    "kernelspec": {
      "display_name": "Python 3",
      "name": "python3"
    },
    "language_info": {
      "name": "python"
    }
  },
  "nbformat": 4,
  "nbformat_minor": 0
}